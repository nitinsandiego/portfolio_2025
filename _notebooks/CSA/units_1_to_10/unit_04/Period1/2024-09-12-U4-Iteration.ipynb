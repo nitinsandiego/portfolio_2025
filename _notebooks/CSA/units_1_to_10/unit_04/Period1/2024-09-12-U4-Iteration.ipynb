{
 "cells": [
  {
   "cell_type": "raw",
   "metadata": {},
   "source": [
    "---\n",
    "layout: post\n",
    "title: Unit 4 Iteration \n",
    "toc: True\n",
    "courses: {'csa': {'week': 6}}\n",
    "type: ccc\n",
    "permalink: /csa/unit4-p1/\n",
    "menu: nav/CSA_Units/csa_unit4_p1.html\n",
    "author: hanlun, saaras, arthur, miheer, eshaan, beijan\n",
    "---"
   ]
  },
  {
   "cell_type": "markdown",
   "metadata": {},
   "source": [
    "## AP CSA Unit 4:\n",
    "This unit is about iteration, we will be exploring for loops and while loops in java. Loops are defined as features that allow a particular part of a program to run repeatedly if a condition is true. \n",
    "\n",
    "### Collegeboard Resources for loops/iteration\n",
    " - [AP Classroom](https://apclassroom.collegeboard.org/8/home?unit=4)\n",
    " "
   ]
  }
 ],
 "metadata": {
  "language_info": {
   "name": "python"
  }
 },
 "nbformat": 4,
 "nbformat_minor": 2
}
