{
 "cells": [
  {
   "cell_type": "markdown",
   "metadata": {},
   "source": [
    "---\n",
    "layout: post\n",
    "title: 3.10.4 Minimum Value and Finding an Element\n",
    "categories: [Collaboration]\n",
    "permalink: /csp/big-idea/p4/3-1\n",
    "courses: { csp: {week: 5} }\n",
    "type: collab\n",
    "comments: true\n",
    "permalink: /csp/big-idea/p4/3-10A-4\n",
    "author: Rowan, Hannah, Gaheera, Rhea\n",
    "menu: nav/csp_units/csp_unit3_p4_fundamentals.html\n",
    "---"
   ]
  },
  {
   "cell_type": "markdown",
   "metadata": {},
   "source": [
    "## Finding the minimum value of a List (Javascript)\n",
    "To find the minimum value of a list, we must first define the list and a variable that represents the potential minimum value. We must then loop through the list and check if each value is less than the potential minimum. If the element is less, the minimum is updated. The minimum value is displayed when all elements have been checked."
   ]
  },
  {
   "cell_type": "code",
   "execution_count": null,
   "metadata": {
    "vscode": {
     "languageId": "javascript"
    }
   },
   "outputs": [],
   "source": [
    "%%js\n",
    "let nums = [1, 2, 3, 4, 5, 6, 7, 8, 9, 10];\n",
    "let min_value = nums[0]; // Start by assuming the first number is the minimum\n",
    "\n",
    "for (let score of nums) {\n",
    "    if (score < min_value) {\n",
    "        min_value = score; // Update min_value if a smaller number is found\n",
    "    }\n",
    "}\n",
    "\n",
    "console.log(\"Minimum value in the list:\", min_value);\n",
    "\n"
   ]
  },
  {
   "cell_type": "markdown",
   "metadata": {},
   "source": [
    "## Finding the Minimum Value of a List (Python)"
   ]
  },
  {
   "cell_type": "code",
   "execution_count": null,
   "metadata": {},
   "outputs": [],
   "source": [
    "nums = [1, 2, 3, 4, 5, 6, 7, 8, 9, 10]\n",
    "min_value = nums[0]  # Start by assuming the first number is the minimum\n",
    "\n",
    "for num in nums:\n",
    "    if num < min_value:\n",
    "        min_value = num  # Update min_value if a smaller number is found\n",
    "\n",
    "print(\"Minimum value in the list:\", min_value)"
   ]
  },
  {
   "cell_type": "markdown",
   "metadata": {},
   "source": [
    "#### Popcorn Hack: Find the sum of all the even numbers of a list called nums with integers using the previous list opperations.Define your list and define a variable to represent a potential value."
   ]
  },
  {
   "cell_type": "markdown",
   "metadata": {},
   "source": [
    "#### Hack: Define your list and define a variable to represent a potential value."
   ]
  },
  {
   "cell_type": "markdown",
   "metadata": {},
   "source": [
    "In JavaScript, you can check if an element exists in an array. The includes method returns true or false"
   ]
  },
  {
   "cell_type": "code",
   "execution_count": null,
   "metadata": {
    "vscode": {
     "languageId": "javascript"
    }
   },
   "outputs": [],
   "source": [
    "%%js\n",
    "let nums = [1, 2, 3, 4, 5, 6, 7, 8, 9, 10];\n",
    "let elementToCheck = 5;\n",
    "\n",
    "if (nums.includes(elementToCheck)) {\n",
    "    console.log(`${elementToCheck} exists in the array`);\n",
    "} else {\n",
    "    console.log(`${elementToCheck} does not exist in the array`);\n",
    "}"
   ]
  },
  {
   "cell_type": "markdown",
   "metadata": {},
   "source": [
    "You can also use If Else statements, like the following Python example."
   ]
  },
  {
   "cell_type": "code",
   "execution_count": null,
   "metadata": {},
   "outputs": [],
   "source": [
    "my_list = [10, 20, 30, 40, 50]\n",
    "\n",
    "# Check for an element\n",
    "element_to_check = 30\n",
    "\n",
    "if element_to_check in my_list:\n",
    "    print(f\"{element_to_check} is in the list.\")\n",
    "else:\n",
    "    print(f\"{element_to_check} is not in the list.\")\n"
   ]
  },
  {
   "cell_type": "markdown",
   "metadata": {},
   "source": [
    "## Popcorn Hack"
   ]
  },
  {
   "cell_type": "code",
   "execution_count": null,
   "metadata": {
    "vscode": {
     "languageId": "javascript"
    }
   },
   "outputs": [],
   "source": [
    "%%js\n",
    "let fruits = [\"apple\", \"banana\", \"orange\"];\n"
   ]
  },
  {
   "cell_type": "markdown",
   "metadata": {},
   "source": [
    "#### Popcorn Hack: Look for the element \"banana\" in the list \"fruits\"Use if else statements for an efficient way to determine the presenence of a certain element.\n",
    "#### Hack: Use if else statements for an efficient way to determine the presenence of a certain element."
   ]
  },
  {
   "cell_type": "markdown",
   "metadata": {},
   "source": [
    "## Mini Quiz\n",
    "\n",
    "Write a Python program that creates a list of the following numbers: 10, 20, 30, 40, 50. Then, print the second element in the list.\n",
    "Write a JavaScript program that creates an array of the following numbers: 10, 20, 30, 40, 50. Then, log the second element in the array to the console.\n",
    "Python:\n",
    "Given the list fruits = ['apple', 'banana', 'cherry'], add 'orange' to the end of the list.\n",
    "JavaScript:\n",
    "Given the array let colors = ['red', 'green', 'blue', 'yellow'], remove the element 'blue' from the array."
   ]
  }
 ],
 "metadata": {
  "language_info": {
   "name": "python"
  }
 },
 "nbformat": 4,
 "nbformat_minor": 2
}
