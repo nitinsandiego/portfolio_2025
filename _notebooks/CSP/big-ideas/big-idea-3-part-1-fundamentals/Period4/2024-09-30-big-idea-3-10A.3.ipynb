{
 "cells": [
  {
   "cell_type": "markdown",
   "metadata": {},
   "source": [
    "---\n",
    "layout: post\n",
    "title: 3.10.3 Assigning a Value & Length of A List\n",
    "categories: [Collaboration]\n",
    "permalink: /csp/big-idea/p4/3-1\n",
    "courses: { csp: {week: 5} }\n",
    "type: collab\n",
    "comments: true\n",
    "permalink: /csp/big-idea/p4/3-10A-3\n",
    "author: Rowan, Hannah, Gaheera, Rhea\n",
    "menu: nav/csp_units/csp_unit3_p4_fundamentals.html\n",
    "---"
   ]
  },
  {
   "cell_type": "markdown",
   "metadata": {},
   "source": [
    "\n",
    "<br>\n",
    "<h2>Assigning a Value</h2>\n",
    "<li>To assign values to a list, you can either create the list with initial elements or add items to an existing list.</li>\n",
    "<br>\n",
    "<style>\n",
    "    h1 {\n",
    "        color: #ff69b4;\n",
    "        padding-left: 10px;\n",
    "    }\n",
    "    h2 {\n",
    "        color: #ff69b4;\n",
    "        padding-left: 10px;\n",
    "    }\n",
    "    div {\n",
    "        background-color: #ffb6c1;\n",
    "        border-radius: 10px;\n",
    "    }\n",
    "    li {\n",
    "        color: #ff69b4;\n",
    "        padding-left: 30px;\n",
    "        font-size: 18px;\n",
    "    }\n",
    "</style>\n"
   ]
  },
  {
   "cell_type": "markdown",
   "metadata": {
    "vscode": {
     "languageId": "plaintext"
    }
   },
   "source": [
    "\n",
    "1. **When creating the list**: You can directly include values, like `[1, 2, 3]`, in most languages.\n",
    "2. **Add to an empty list**: You can start with an empty list (`[]`) and then use methods like `append()` or `push()` to add values to it.\n",
    "3. **Assign to specific positions**: You can also assign values to specific positions in the list using an index, such as `myList[0] = 5`.\n",
    "\n",
    "Each approach lets you store and manage multiple items in one variable.\n"
   ]
  },
  {
   "cell_type": "code",
   "execution_count": null,
   "metadata": {
    "vscode": {
     "languageId": "javascript"
    }
   },
   "outputs": [],
   "source": [
    "%%js\n",
    "// Create a list with values\n",
    "let myList = [10, 20, 30];\n",
    "console.log(myList); // [10, 20, 30]\n",
    "\n",
    "// Assign values to specific positions\n",
    "let myList = [];\n",
    "myList[0] = 5;\n",
    "myList[1] = 15;\n",
    "console.log(myList); // [5, 15]\n",
    "\n",
    "// Append values\n",
    "let myList = [];\n",
    "myList.push(100);\n",
    "myList.push(200);\n",
    "console.log(myList); // [100, 200]\n"
   ]
  },
  {
   "cell_type": "markdown",
   "metadata": {},
   "source": [
    "Python:"
   ]
  },
  {
   "cell_type": "code",
   "execution_count": null,
   "metadata": {},
   "outputs": [],
   "source": [
    "# Create a list with values\n",
    "my_list = [10, 20, 30]\n",
    "print(my_list)  # [10, 20, 30]\n",
    "\n",
    "# Assign values to specific positions\n",
    "my_list = [0] * 3\n",
    "my_list[0] = 5\n",
    "print(my_list)  # [5, 0, 0]\n",
    "\n",
    "# Append values\n",
    "my_list = []\n",
    "my_list.append(100)\n",
    "print(my_list)  # [100]\n"
   ]
  },
  {
   "cell_type": "markdown",
   "metadata": {},
   "source": [
    "## Common Errors When Assigning \n",
    "\n",
    "1. **Index Out of Range**: Assigning a value to a non-existent index in the list.\n",
    "   - *Example*: `my_list[3] = 4` on a list with only three elements.\n",
    "\n",
    "2. **Incorrect Data Type**: Assigning a value of an unexpected type.\n",
    "   - *Example*: `myArray[1] = \"text\"` in a numeric array.\n",
    "\n",
    "3. **Immutable Data Structure**: Trying to assign a value to an immutable type (like a tuple in Python).\n",
    "   - *Example*: `my_tuple[0] = 4` results in a TypeError.\n",
    "\n",
    "4. **Using `+=` Instead of `=`**: Misusing operators can lead to errors, especially with non-iterable types.\n",
    "   - *Example*: `my_list += 5` on an integer variable.\n",
    "\n",
    "5. **Uninitialized Variable**: Assigning a value to a list variable that hasn't been initialized.\n",
    "   - *Example*: `my_list[0] = 1` when `my_list` is `None`.\n",
    "\n",
    "6. **Syntax Errors**: Mistakes in syntax can prevent assignment.\n",
    "   - *Example*: Missing parentheses or brackets.\n",
    "\n",
    "\n",
    " **Be mindful of these errors related to indexing, data types, and initialization to avoid issues when assigning values to lists.**\n"
   ]
  },
  {
   "cell_type": "markdown",
   "metadata": {
    "vscode": {
     "languageId": "javascript"
    }
   },
   "source": [
    "\n",
    "\n",
    "<br>\n",
    "<h2>Length of a List</h2>\n",
    "<li>To get the length of a list (i.e., the number of elements it contains), you can use:</li>\n",
    "<li>JavaScript: .length</li>\n",
    "<li>Python: len()</li>\n",
    "<li>These methods return the total number of elements in the list.</li>\n",
    "<br>\n",
    "<style>\n",
    "    h1 {\n",
    "        color: #ff69b4;\n",
    "        padding-left: 10px;\n",
    "    }\n",
    "    h2 {\n",
    "        color: #ff69b4;\n",
    "        padding-left: 10px;\n",
    "    }\n",
    "    div {\n",
    "        background-color: #ffb6c1;\n",
    "        border-radius: 10px;\n",
    "    }\n",
    "    li {\n",
    "        color: #ff69b4;\n",
    "        padding-left: 30px;\n",
    "        font-size: 18px;\n",
    "    }\n",
    "</style>\n"
   ]
  },
  {
   "cell_type": "code",
   "execution_count": null,
   "metadata": {
    "vscode": {
     "languageId": "javascript"
    }
   },
   "outputs": [],
   "source": [
    "%%js\n",
    "let myList = [10, 20, 30];\n",
    "console.log(myList.length);  // Output: 3\n"
   ]
  },
  {
   "cell_type": "markdown",
   "metadata": {},
   "source": [
    "Python:"
   ]
  },
  {
   "cell_type": "code",
   "execution_count": null,
   "metadata": {},
   "outputs": [],
   "source": [
    "my_list = [10, 20, 30]\n",
    "print(len(my_list))  # Output: 3\n"
   ]
  },
  {
   "cell_type": "markdown",
   "metadata": {},
   "source": [
    "## Popcorn Hack: Assigning Values to a List and Finding Its Length\n",
    "\n",
    "### Objective:\n",
    "1. Create a list and assign at least five values to it.\n",
    "2. Find and print the length of the list.\n",
    "\n",
    "### Steps:\n",
    "1. **Create a list**: Initialize an empty list.\n",
    "2. **Assign values**: Add five different values (you can choose numbers, strings, or a mix).\n",
    "3. **Find the length**: Use the appropriate method to find the length of the list and print it.\n"
   ]
  },
  {
   "cell_type": "markdown",
   "metadata": {},
   "source": [
    "## Popcorn Hack\n",
    "### Create a list of your five favorite foods.\n",
    "### Add two more items to your list using the .push() method.\n",
    "### Print the list to the console.\n",
    "### Find and print the total number of items in the list using .length"
   ]
  }
 ],
 "metadata": {
  "language_info": {
   "name": "python"
  }
 },
 "nbformat": 4,
 "nbformat_minor": 2
}
