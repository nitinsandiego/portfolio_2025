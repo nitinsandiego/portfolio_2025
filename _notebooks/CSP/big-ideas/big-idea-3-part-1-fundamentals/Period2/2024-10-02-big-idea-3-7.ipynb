{
 "cells": [
  {
   "cell_type": "raw",
   "metadata": {
    "vscode": {
     "languageId": "raw"
    }
   },
   "source": [
    "---\n",
    "toc: false\n",
    "comments: true\n",
    "layout: post\n",
    "title: 3.7-P2 Nested Conditionals \n",
    "description: Student led teaching on Nested Conditionals using Javascript and Python\n",
    "permalink: /csp/big-idea/p2/3-7\n",
    "categories: [CSP Big Ideas]\n",
    "author:  Kush, Nolan, Vincent, and Tarun\n",
    "menu: nav/csp_units/csp_unit3_p2_fundamentals.html\n",
    "---"
   ]
  },
  {
   "cell_type": "markdown",
   "metadata": {},
   "source": [
    "## Content Outline\n",
    "\n",
    "3.7.1\n",
    "- If statements\n",
    "\n",
    "- Else Statements\n",
    "- Nested Conditionals\n",
    "- Examples using Javascript and Python\n",
    "\n",
    "\n",
    "\n",
    "3.7.2\n",
    "- Homework Hack Assignment\n",
    "\n",
    "- Homework Hack Javscript and Python Examples\n"
   ]
  },
  {
   "cell_type": "markdown",
   "metadata": {},
   "source": [
    "# Popcorn Hack #1"
   ]
  },
  {
   "cell_type": "markdown",
   "metadata": {},
   "source": [
    "### Task:\n",
    "\n",
    "Create a Python function that returns a message based on the size of popcorn ordered, and test the function with different size inputs.\n"
   ]
  },
  {
   "cell_type": "code",
   "execution_count": null,
   "metadata": {},
   "outputs": [],
   "source": [
    "def popcorn_size(size):\n",
    "    if size == \"small\":\n",
    "        return \"You get a small popcorn.\"\n",
    "    elif size == \"medium\":\n",
    "        if size == \"medium\":\n",
    "            return \"You get a medium popcorn.\"\n",
    "        else:\n",
    "            return \"You get a large popcorn.\"\n",
    "    else:\n",
    "        return \"Invalid size.\"\n",
    "\n",
    "# Test the function with different sizes\n",
    "print(popcorn_size(\"small\"))   # Small popcorn\n",
    "print(popcorn_size(\"medium\"))  # Medium popcorn\n",
    "print(popcorn_size(\"large\"))   # Large popcorn\n"
   ]
  },
  {
   "cell_type": "markdown",
   "metadata": {},
   "source": [
    "-The code defines a function that determines the type of popcorn based on the input size: \"small,\" \"medium,\" or \"large,\" and returns a corresponding message.\n",
    "\n",
    "-It tests the function with different sizes and prints the appropriate message for each input.\n"
   ]
  },
  {
   "cell_type": "markdown",
   "metadata": {},
   "source": [
    "# Popcorn Hack #2"
   ]
  },
  {
   "cell_type": "markdown",
   "metadata": {},
   "source": [
    "### Task\n",
    "\n",
    "Create a simple JavaScript program that checks weather conditions and provides outdoor activity suggestions based on whether it’s sunny and raining.\n"
   ]
  },
  {
   "cell_type": "code",
   "execution_count": 2,
   "metadata": {
    "vscode": {
     "languageId": "javascript"
    }
   },
   "outputs": [
    {
     "data": {
      "application/javascript": "// Weather Conditions\nlet is_sunny = true;\nlet is_raining = false;\n\n// Outdoor activity logic based on weather\nif (is_sunny) {\n    console.log(\"It's a nice day for outdoor activities.\");\n\n    if (is_raining) {\n        console.log(\"You might need an umbrella.\");\n    } else {\n        console.log(\"Enjoy the sunshine!\");\n    }\n} else {\n    console.log(\"Stay indoors today.\");\n}\n",
      "text/plain": [
       "<IPython.core.display.Javascript object>"
      ]
     },
     "metadata": {},
     "output_type": "display_data"
    }
   ],
   "source": [
    "%%js\n",
    "// Weather Conditions\n",
    "let is_sunny = true;\n",
    "let is_raining = false;\n",
    "\n",
    "// Outdoor activity logic based on weather\n",
    "if (is_sunny) {\n",
    "    console.log(\"It's a nice day for outdoor activities.\");\n",
    "\n",
    "    if (is_raining) {\n",
    "        console.log(\"You might need an umbrella.\");\n",
    "    } else {\n",
    "        console.log(\"Enjoy the sunshine!\");\n",
    "    }\n",
    "} else {\n",
    "    console.log(\"Stay indoors today.\");\n",
    "}"
   ]
  },
  {
   "cell_type": "markdown",
   "metadata": {},
   "source": [
    "-The code checks various weather conditions to determine if it's a good day for outdoor activities and provides messages based on the weather (sunny, rainy, windy).\n",
    "\n",
    "-It prints appropriate recommendations, such as needing an umbrella or wearing a jacket, depending on the conditions.\n"
   ]
  },
  {
   "cell_type": "markdown",
   "metadata": {},
   "source": [
    "# Popcorn Hack #3"
   ]
  },
  {
   "cell_type": "markdown",
   "metadata": {},
   "source": [
    "### Task\n",
    "\n",
    "\n",
    "Create a Python program that checks your savings against the prices of different laptops and informs you which one you can afford to buy.\n"
   ]
  },
  {
   "cell_type": "code",
   "execution_count": null,
   "metadata": {},
   "outputs": [],
   "source": [
    "# Savings\n",
    "savings = 500  \n",
    "\n",
    "# Laptop prices\n",
    "dell_price = 800\n",
    "hp_price = 700\n",
    "macbook_price = 1200\n",
    "\n",
    "# Determine which laptop you can buy\n",
    "if savings >= macbook_price:\n",
    "    print(\"You can buy a MacBook!\")\n",
    "elif savings >= dell_price:\n",
    "    print(\"You can buy a Dell laptop!\")\n",
    "elif savings >= hp_price:\n",
    "    print(\"You can buy an HP laptop!\")\n",
    "else:\n",
    "    print(\"You don't have enough money to buy a laptop.\")"
   ]
  },
  {
   "cell_type": "markdown",
   "metadata": {},
   "source": [
    "-The code checks the user's savings to determine which laptop they can afford based on predefined prices for Dell, HP, and MacBook laptops.\n",
    "\n",
    "-It prints a message indicating which laptop can be purchased or states that there isn't enough money for any laptop.\n"
   ]
  }
 ],
 "metadata": {
  "kernelspec": {
   "display_name": "Python 3",
   "language": "python",
   "name": "python3"
  },
  "language_info": {
   "codemirror_mode": {
    "name": "ipython",
    "version": 3
   },
   "file_extension": ".py",
   "mimetype": "text/x-python",
   "name": "python",
   "nbconvert_exporter": "python",
   "pygments_lexer": "ipython3",
   "version": "3.10.12"
  }
 },
 "nbformat": 4,
 "nbformat_minor": 2
}
